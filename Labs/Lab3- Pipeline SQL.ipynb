{
 "cells": [
  {
   "cell_type": "markdown",
   "metadata": {
    "application/vnd.databricks.v1+cell": {
     "cellMetadata": {
      "byteLimit": 2048000,
      "rowLimit": 10000
     },
     "inputWidgets": {},
     "nuid": "befae11e-73f8-494e-8e2c-7d797a175ee6",
     "showTitle": false,
     "tableResultSettingsMap": {},
     "title": ""
    }
   },
   "source": [
    "# Construire une simple pipeline de transformation de donnée SQL\n",
    "\n",
    "Ce exemple de pipeline utilise le célèbre jeu de données sur les trajets de taxis de New York (NYC taxi trip dataset). Ce jeu de données public est également disponible sur Kaggle.\n",
    "\n",
    "Ce notebook utilise l'architecture Medallion qui permet d'améliorer la qualité des données en les faisant passer à travers trois couches : Bronze (données brutes), Silver (données nettoyées) et Gold (données finales prêtes à l'utilisation).\n",
    "Architecture Medallion : https://drive.google.com/file/d/1Zn0mfRxOiXjwnwQX4cd0-MrW42zHjNvl/view?usp=sharing\n",
    "\n"
   ]
  },
  {
   "cell_type": "markdown",
   "metadata": {
    "application/vnd.databricks.v1+cell": {
     "cellMetadata": {
      "byteLimit": 2048000,
      "rowLimit": 10000
     },
     "inputWidgets": {},
     "nuid": "d82c88b5-70a2-46e6-8b2b-c7ce609eb9d7",
     "showTitle": false,
     "tableResultSettingsMap": {},
     "title": ""
    }
   },
   "source": [
    "### Couche Bronze\n",
    "Table Bronze : Ingestion des données brutes\n",
    "À ce niveau, les données brutes des trajets en taxi sont ingérées, avec un contrôle basique de qualité des données pour s'assurer que les distances des trajets sont positives."
   ]
  },
  {
   "cell_type": "code",
   "execution_count": 0,
   "metadata": {
    "application/vnd.databricks.v1+cell": {
     "cellMetadata": {
      "byteLimit": 2048000,
      "rowLimit": 10000
     },
     "inputWidgets": {},
     "nuid": "8eda6d75-1afb-4f2c-8036-78d4637e5471",
     "showTitle": false,
     "tableResultSettingsMap": {},
     "title": ""
    }
   },
   "outputs": [],
   "source": [
    "from pyspark.sql.functions import col, when, date_trunc, avg, round"
   ]
  },
  {
   "cell_type": "code",
   "execution_count": 0,
   "metadata": {
    "application/vnd.databricks.v1+cell": {
     "cellMetadata": {
      "byteLimit": 2048000,
      "implicitDf": true,
      "rowLimit": 10000
     },
     "inputWidgets": {},
     "nuid": "fd2f5185-37dd-4250-8051-ded891a04d79",
     "showTitle": false,
     "tableResultSettingsMap": {},
     "title": ""
    }
   },
   "outputs": [
    {
     "output_type": "display_data",
     "data": {
      "text/html": [
       "<style scoped>\n",
       "  .table-result-container {\n",
       "    max-height: 300px;\n",
       "    overflow: auto;\n",
       "  }\n",
       "  table, th, td {\n",
       "    border: 1px solid black;\n",
       "    border-collapse: collapse;\n",
       "  }\n",
       "  th, td {\n",
       "    padding: 5px;\n",
       "  }\n",
       "  th {\n",
       "    text-align: left;\n",
       "  }\n",
       "</style><div class='table-result-container'><table class='table-result'><thead style='background-color: white'><tr><th>num_affected_rows</th><th>num_inserted_rows</th></tr></thead><tbody></tbody></table></div>"
      ]
     },
     "metadata": {
      "application/vnd.databricks.v1+output": {
       "addedWidgets": {},
       "aggData": [],
       "aggError": "",
       "aggOverflow": false,
       "aggSchema": [],
       "aggSeriesLimitReached": false,
       "aggType": "",
       "arguments": {},
       "columnCustomDisplayInfos": {},
       "data": [],
       "datasetInfos": [],
       "dbfsResultPath": null,
       "isJsonSchema": true,
       "metadata": {
        "createTempViewForImplicitDf": true,
        "dataframeName": "_sqldf",
        "executionCount": 33
       },
       "overflow": false,
       "plotOptions": {
        "customPlotOptions": {},
        "displayType": "table",
        "pivotAggregation": null,
        "pivotColumns": null,
        "xColumns": null,
        "yColumns": null
       },
       "removedWidgets": [],
       "schema": [
        {
         "metadata": "{}",
         "name": "num_affected_rows",
         "type": "\"long\""
        },
        {
         "metadata": "{}",
         "name": "num_inserted_rows",
         "type": "\"long\""
        }
       ],
       "type": "table"
      }
     },
     "output_type": "display_data"
    }
   ],
   "source": [
    "%sql\n",
    "--Bronze layer: Raw data ingestion\n",
    "CREATE OR REPLACE TABLE taxi_raw_records AS\n",
    "SELECT * \n",
    "FROM samples.nyctaxi.trips WHERE trip_distance > 0.0"
   ]
  },
  {
   "cell_type": "code",
   "execution_count": 0,
   "metadata": {
    "application/vnd.databricks.v1+cell": {
     "cellMetadata": {
      "byteLimit": 2048000,
      "implicitDf": true,
      "rowLimit": 10000
     },
     "inputWidgets": {},
     "nuid": "b19782c6-f0f8-4529-9c2d-efc772a8b139",
     "showTitle": false,
     "tableResultSettingsMap": {},
     "title": ""
    }
   },
   "outputs": [],
   "source": [
    "%sql\n",
    "SELECT *\n",
    "FROM taxi_raw_records"
   ]
  },
  {
   "cell_type": "markdown",
   "metadata": {
    "application/vnd.databricks.v1+cell": {
     "cellMetadata": {
      "byteLimit": 2048000,
      "rowLimit": 10000
     },
     "inputWidgets": {},
     "nuid": "9ad11a9f-d17e-4da3-8b10-cfdb8a868e29",
     "showTitle": false,
     "tableResultSettingsMap": {},
     "title": ""
    }
   },
   "source": [
    "### Couche Silver\n",
    "La couche Silver crée deux tables :\n",
    "\n",
    "Table Silver 1 : Trajets signalés.\n",
    "Cette table identifie les trajets potentiellement suspects en fonction des critères de tarif et de distance."
   ]
  },
  {
   "cell_type": "code",
   "execution_count": 0,
   "metadata": {
    "application/vnd.databricks.v1+cell": {
     "cellMetadata": {
      "byteLimit": 2048000,
      "implicitDf": true,
      "rowLimit": 10000
     },
     "inputWidgets": {},
     "nuid": "32d45143-97dc-4f67-b2a6-6682e75f9569",
     "showTitle": false,
     "tableResultSettingsMap": {},
     "title": ""
    }
   },
   "outputs": [
    {
     "output_type": "display_data",
     "data": {
      "text/html": [
       "<style scoped>\n",
       "  .table-result-container {\n",
       "    max-height: 300px;\n",
       "    overflow: auto;\n",
       "  }\n",
       "  table, th, td {\n",
       "    border: 1px solid black;\n",
       "    border-collapse: collapse;\n",
       "  }\n",
       "  th, td {\n",
       "    padding: 5px;\n",
       "  }\n",
       "  th {\n",
       "    text-align: left;\n",
       "  }\n",
       "</style><div class='table-result-container'><table class='table-result'><thead style='background-color: white'><tr><th>num_affected_rows</th><th>num_inserted_rows</th></tr></thead><tbody></tbody></table></div>"
      ]
     },
     "metadata": {
      "application/vnd.databricks.v1+output": {
       "addedWidgets": {},
       "aggData": [],
       "aggError": "",
       "aggOverflow": false,
       "aggSchema": [],
       "aggSeriesLimitReached": false,
       "aggType": "",
       "arguments": {},
       "columnCustomDisplayInfos": {},
       "data": [],
       "datasetInfos": [],
       "dbfsResultPath": null,
       "isJsonSchema": true,
       "metadata": {
        "createTempViewForImplicitDf": true,
        "dataframeName": "_sqldf",
        "executionCount": 35
       },
       "overflow": false,
       "plotOptions": {
        "customPlotOptions": {},
        "displayType": "table",
        "pivotAggregation": null,
        "pivotColumns": null,
        "xColumns": null,
        "yColumns": null
       },
       "removedWidgets": [],
       "schema": [
        {
         "metadata": "{}",
         "name": "num_affected_rows",
         "type": "\"long\""
        },
        {
         "metadata": "{}",
         "name": "num_inserted_rows",
         "type": "\"long\""
        }
       ],
       "type": "table"
      }
     },
     "output_type": "display_data"
    }
   ],
   "source": [
    "%sql\n",
    "-- Silver Table 1: Flagged rides\n",
    "\n",
    "CREATE OR REPLACE TABLE flagged_rides AS\n",
    "SELECT\n",
    "  date_trunc(\"week\", tpep_pickup_datetime) AS week,\n",
    "  pickup_zip AS zip,\n",
    "  fare_amount,\n",
    "  trip_distance\n",
    "FROM\n",
    "  taxi_raw_records\n",
    "WHERE ((pickup_zip = dropoff_zip AND fare_amount > 50) OR\n",
    "       (trip_distance < 5 AND fare_amount > 50));"
   ]
  },
  {
   "cell_type": "code",
   "execution_count": 0,
   "metadata": {
    "application/vnd.databricks.v1+cell": {
     "cellMetadata": {
      "byteLimit": 2048000,
      "implicitDf": true,
      "rowLimit": 10000
     },
     "inputWidgets": {},
     "nuid": "6658e262-43a3-4d4a-b263-32275cb2b7e4",
     "showTitle": false,
     "tableResultSettingsMap": {},
     "title": ""
    }
   },
   "outputs": [
    {
     "output_type": "display_data",
     "data": {
      "text/html": [
       "<style scoped>\n",
       "  .table-result-container {\n",
       "    max-height: 300px;\n",
       "    overflow: auto;\n",
       "  }\n",
       "  table, th, td {\n",
       "    border: 1px solid black;\n",
       "    border-collapse: collapse;\n",
       "  }\n",
       "  th, td {\n",
       "    padding: 5px;\n",
       "  }\n",
       "  th {\n",
       "    text-align: left;\n",
       "  }\n",
       "</style><div class='table-result-container'><table class='table-result'><thead style='background-color: white'><tr><th>week</th><th>zip</th><th>fare_amount</th><th>trip_distance</th></tr></thead><tbody><tr><td>2016-02-22T00:00:00Z</td><td>10115</td><td>55.0</td><td>0.18</td></tr><tr><td>2016-02-22T00:00:00Z</td><td>11371</td><td>52.0</td><td>4.02</td></tr><tr><td>2016-02-22T00:00:00Z</td><td>10017</td><td>52.0</td><td>0.12</td></tr><tr><td>2016-02-29T00:00:00Z</td><td>11101</td><td>52.0</td><td>2.88</td></tr><tr><td>2016-02-22T00:00:00Z</td><td>11109</td><td>52.0</td><td>3.34</td></tr><tr><td>2016-01-11T00:00:00Z</td><td>11106</td><td>52.0</td><td>2.94</td></tr><tr><td>2016-01-11T00:00:00Z</td><td>10003</td><td>52.0</td><td>0.03</td></tr><tr><td>2015-12-28T00:00:00Z</td><td>10020</td><td>52.0</td><td>15.3</td></tr><tr><td>2016-01-04T00:00:00Z</td><td>10035</td><td>52.0</td><td>4.7</td></tr><tr><td>2016-02-08T00:00:00Z</td><td>11422</td><td>52.0</td><td>0.2</td></tr><tr><td>2016-01-11T00:00:00Z</td><td>11422</td><td>52.0</td><td>8.7</td></tr><tr><td>2015-12-28T00:00:00Z</td><td>10023</td><td>52.0</td><td>0.3</td></tr><tr><td>2016-01-18T00:00:00Z</td><td>10020</td><td>52.0</td><td>0.1</td></tr><tr><td>2016-02-15T00:00:00Z</td><td>7311</td><td>60.0</td><td>2.0</td></tr><tr><td>2016-01-25T00:00:00Z</td><td>10065</td><td>52.0</td><td>1.12</td></tr><tr><td>2016-01-25T00:00:00Z</td><td>11109</td><td>52.0</td><td>3.0</td></tr><tr><td>2016-02-22T00:00:00Z</td><td>11422</td><td>60.0</td><td>0.92</td></tr><tr><td>2016-01-11T00:00:00Z</td><td>11109</td><td>52.0</td><td>2.39</td></tr><tr><td>2016-01-04T00:00:00Z</td><td>10009</td><td>95.0</td><td>5.2</td></tr></tbody></table></div>"
      ]
     },
     "metadata": {
      "application/vnd.databricks.v1+output": {
       "addedWidgets": {},
       "aggData": [],
       "aggError": "",
       "aggOverflow": false,
       "aggSchema": [],
       "aggSeriesLimitReached": false,
       "aggType": "",
       "arguments": {},
       "columnCustomDisplayInfos": {},
       "data": [
        [
         "2016-02-22T00:00:00Z",
         10115,
         55.0,
         0.18
        ],
        [
         "2016-02-22T00:00:00Z",
         11371,
         52.0,
         4.02
        ],
        [
         "2016-02-22T00:00:00Z",
         10017,
         52.0,
         0.12
        ],
        [
         "2016-02-29T00:00:00Z",
         11101,
         52.0,
         2.88
        ],
        [
         "2016-02-22T00:00:00Z",
         11109,
         52.0,
         3.34
        ],
        [
         "2016-01-11T00:00:00Z",
         11106,
         52.0,
         2.94
        ],
        [
         "2016-01-11T00:00:00Z",
         10003,
         52.0,
         0.03
        ],
        [
         "2015-12-28T00:00:00Z",
         10020,
         52.0,
         15.3
        ],
        [
         "2016-01-04T00:00:00Z",
         10035,
         52.0,
         4.7
        ],
        [
         "2016-02-08T00:00:00Z",
         11422,
         52.0,
         0.2
        ],
        [
         "2016-01-11T00:00:00Z",
         11422,
         52.0,
         8.7
        ],
        [
         "2015-12-28T00:00:00Z",
         10023,
         52.0,
         0.3
        ],
        [
         "2016-01-18T00:00:00Z",
         10020,
         52.0,
         0.1
        ],
        [
         "2016-02-15T00:00:00Z",
         7311,
         60.0,
         2.0
        ],
        [
         "2016-01-25T00:00:00Z",
         10065,
         52.0,
         1.12
        ],
        [
         "2016-01-25T00:00:00Z",
         11109,
         52.0,
         3.0
        ],
        [
         "2016-02-22T00:00:00Z",
         11422,
         60.0,
         0.92
        ],
        [
         "2016-01-11T00:00:00Z",
         11109,
         52.0,
         2.39
        ],
        [
         "2016-01-04T00:00:00Z",
         10009,
         95.0,
         5.2
        ]
       ],
       "datasetInfos": [],
       "dbfsResultPath": null,
       "isJsonSchema": true,
       "metadata": {
        "createTempViewForImplicitDf": true,
        "dataframeName": "_sqldf",
        "executionCount": 36
       },
       "overflow": false,
       "plotOptions": {
        "customPlotOptions": {},
        "displayType": "table",
        "pivotAggregation": null,
        "pivotColumns": null,
        "xColumns": null,
        "yColumns": null
       },
       "removedWidgets": [],
       "schema": [
        {
         "metadata": "{}",
         "name": "week",
         "type": "\"timestamp\""
        },
        {
         "metadata": "{}",
         "name": "zip",
         "type": "\"integer\""
        },
        {
         "metadata": "{}",
         "name": "fare_amount",
         "type": "\"double\""
        },
        {
         "metadata": "{}",
         "name": "trip_distance",
         "type": "\"double\""
        }
       ],
       "type": "table"
      }
     },
     "output_type": "display_data"
    }
   ],
   "source": [
    "%sql\n",
    "SELECT *\n",
    "FROM flagged_rides"
   ]
  },
  {
   "cell_type": "markdown",
   "metadata": {
    "application/vnd.databricks.v1+cell": {
     "cellMetadata": {
      "byteLimit": 2048000,
      "rowLimit": 10000
     },
     "inputWidgets": {},
     "nuid": "5fd74e22-c5af-4c52-9af4-1e1171bfcfbd",
     "showTitle": false,
     "tableResultSettingsMap": {},
     "title": ""
    }
   },
   "source": [
    "Table Silver 2 : Statistiques hebdomadaires.\n",
    "\n",
    "Cette table Silver calcule les tarifs moyens hebdomadaires et les distances moyennes des trajets"
   ]
  },
  {
   "cell_type": "code",
   "execution_count": 0,
   "metadata": {
    "application/vnd.databricks.v1+cell": {
     "cellMetadata": {
      "byteLimit": 2048000,
      "implicitDf": true,
      "rowLimit": 10000
     },
     "inputWidgets": {},
     "nuid": "eefb1937-fd47-4efa-ac25-763b01506b16",
     "showTitle": false,
     "tableResultSettingsMap": {},
     "title": ""
    }
   },
   "outputs": [
    {
     "output_type": "display_data",
     "data": {
      "text/html": [
       "<style scoped>\n",
       "  .table-result-container {\n",
       "    max-height: 300px;\n",
       "    overflow: auto;\n",
       "  }\n",
       "  table, th, td {\n",
       "    border: 1px solid black;\n",
       "    border-collapse: collapse;\n",
       "  }\n",
       "  th, td {\n",
       "    padding: 5px;\n",
       "  }\n",
       "  th {\n",
       "    text-align: left;\n",
       "  }\n",
       "</style><div class='table-result-container'><table class='table-result'><thead style='background-color: white'><tr><th>num_affected_rows</th><th>num_inserted_rows</th></tr></thead><tbody></tbody></table></div>"
      ]
     },
     "metadata": {
      "application/vnd.databricks.v1+output": {
       "addedWidgets": {},
       "aggData": [],
       "aggError": "",
       "aggOverflow": false,
       "aggSchema": [],
       "aggSeriesLimitReached": false,
       "aggType": "",
       "arguments": {},
       "columnCustomDisplayInfos": {},
       "data": [],
       "datasetInfos": [],
       "dbfsResultPath": null,
       "isJsonSchema": true,
       "metadata": {
        "createTempViewForImplicitDf": true,
        "dataframeName": "_sqldf",
        "executionCount": 37
       },
       "overflow": false,
       "plotOptions": {
        "customPlotOptions": {},
        "displayType": "table",
        "pivotAggregation": null,
        "pivotColumns": null,
        "xColumns": null,
        "yColumns": null
       },
       "removedWidgets": [],
       "schema": [
        {
         "metadata": "{}",
         "name": "num_affected_rows",
         "type": "\"long\""
        },
        {
         "metadata": "{}",
         "name": "num_inserted_rows",
         "type": "\"long\""
        }
       ],
       "type": "table"
      }
     },
     "output_type": "display_data"
    }
   ],
   "source": [
    "%sql\n",
    "--Silver layer 2: Weekly statistics\n",
    "\n",
    "CREATE OR REPLACE TABLE weekly_stats AS\n",
    "SELECT\n",
    "  date_trunc(\"week\", tpep_pickup_datetime) AS week,\n",
    "  AVG(fare_amount) AS avg_amount,\n",
    "  AVG(trip_distance) AS avg_distance\n",
    "FROM\n",
    "  taxi_raw_records\n",
    "GROUP BY week\n",
    "ORDER BY week ASC;"
   ]
  },
  {
   "cell_type": "markdown",
   "metadata": {
    "application/vnd.databricks.v1+cell": {
     "cellMetadata": {
      "byteLimit": 2048000,
      "rowLimit": 10000
     },
     "inputWidgets": {},
     "nuid": "2e054794-1313-451c-a386-91097740f84f",
     "showTitle": false,
     "tableResultSettingsMap": {},
     "title": ""
    }
   },
   "source": [
    "### Couche Gold\n",
    "Table Gold 1 : Top N trajets. \n",
    "\n",
    "Les tables Silver sont intégrées pour fournir une vue complète des trois trajets avec les tarifs les plus élevés."
   ]
  },
  {
   "cell_type": "code",
   "execution_count": 0,
   "metadata": {
    "application/vnd.databricks.v1+cell": {
     "cellMetadata": {
      "byteLimit": 2048000,
      "implicitDf": true,
      "rowLimit": 10000
     },
     "inputWidgets": {},
     "nuid": "9486e3fe-32ff-434f-ac34-78bebbafc7b4",
     "showTitle": false,
     "tableResultSettingsMap": {},
     "title": ""
    }
   },
   "outputs": [
    {
     "output_type": "display_data",
     "data": {
      "text/html": [
       "<style scoped>\n",
       "  .table-result-container {\n",
       "    max-height: 300px;\n",
       "    overflow: auto;\n",
       "  }\n",
       "  table, th, td {\n",
       "    border: 1px solid black;\n",
       "    border-collapse: collapse;\n",
       "  }\n",
       "  th, td {\n",
       "    padding: 5px;\n",
       "  }\n",
       "  th {\n",
       "    text-align: left;\n",
       "  }\n",
       "</style><div class='table-result-container'><table class='table-result'><thead style='background-color: white'><tr><th>num_affected_rows</th><th>num_inserted_rows</th></tr></thead><tbody></tbody></table></div>"
      ]
     },
     "metadata": {
      "application/vnd.databricks.v1+output": {
       "addedWidgets": {},
       "aggData": [],
       "aggError": "",
       "aggOverflow": false,
       "aggSchema": [],
       "aggSeriesLimitReached": false,
       "aggType": "",
       "arguments": {},
       "columnCustomDisplayInfos": {},
       "data": [],
       "datasetInfos": [],
       "dbfsResultPath": null,
       "isJsonSchema": true,
       "metadata": {
        "createTempViewForImplicitDf": true,
        "dataframeName": "_sqldf",
        "executionCount": 38
       },
       "overflow": false,
       "plotOptions": {
        "customPlotOptions": {},
        "displayType": "table",
        "pivotAggregation": null,
        "pivotColumns": null,
        "xColumns": null,
        "yColumns": null
       },
       "removedWidgets": [],
       "schema": [
        {
         "metadata": "{}",
         "name": "num_affected_rows",
         "type": "\"long\""
        },
        {
         "metadata": "{}",
         "name": "num_inserted_rows",
         "type": "\"long\""
        }
       ],
       "type": "table"
      }
     },
     "output_type": "display_data"
    }
   ],
   "source": [
    "%sql\n",
    "-- Gold layer: Top N rides to investigate\n",
    "\n",
    "CREATE OR REPLACE TABLE top_n AS\n",
    "SELECT\n",
    "  ws.week,\n",
    "  ROUND(ws.avg_amount, 2) AS avg_amount,\n",
    "  ROUND(ws.avg_distance, 3) AS avg_distance,\n",
    "  fr.fare_amount,\n",
    "  fr.trip_distance,\n",
    "  fr.zip\n",
    "FROM\n",
    "  flagged_rides fr\n",
    "LEFT JOIN weekly_stats ws ON ws.week = fr.week\n",
    "ORDER BY fr.fare_amount DESC\n",
    "LIMIT 3;"
   ]
  },
  {
   "cell_type": "code",
   "execution_count": 0,
   "metadata": {
    "application/vnd.databricks.v1+cell": {
     "cellMetadata": {
      "byteLimit": 2048000,
      "implicitDf": true,
      "rowLimit": 10000
     },
     "inputWidgets": {},
     "nuid": "ba50d6ce-22f1-4b8c-a8ae-af96503a9d82",
     "showTitle": false,
     "tableResultSettingsMap": {},
     "title": ""
    }
   },
   "outputs": [
    {
     "output_type": "display_data",
     "data": {
      "text/html": [
       "<style scoped>\n",
       "  .table-result-container {\n",
       "    max-height: 300px;\n",
       "    overflow: auto;\n",
       "  }\n",
       "  table, th, td {\n",
       "    border: 1px solid black;\n",
       "    border-collapse: collapse;\n",
       "  }\n",
       "  th, td {\n",
       "    padding: 5px;\n",
       "  }\n",
       "  th {\n",
       "    text-align: left;\n",
       "  }\n",
       "</style><div class='table-result-container'><table class='table-result'><thead style='background-color: white'><tr><th>week</th><th>avg_amount</th><th>avg_distance</th><th>fare_amount</th><th>trip_distance</th><th>zip</th></tr></thead><tbody><tr><td>2016-01-04T00:00:00Z</td><td>11.91</td><td>2.865</td><td>95.0</td><td>5.2</td><td>10009</td></tr><tr><td>2016-02-15T00:00:00Z</td><td>12.24</td><td>2.894</td><td>60.0</td><td>2.0</td><td>7311</td></tr><tr><td>2016-02-22T00:00:00Z</td><td>12.79</td><td>2.973</td><td>60.0</td><td>0.92</td><td>11422</td></tr></tbody></table></div>"
      ]
     },
     "metadata": {
      "application/vnd.databricks.v1+output": {
       "addedWidgets": {},
       "aggData": [],
       "aggError": "",
       "aggOverflow": false,
       "aggSchema": [],
       "aggSeriesLimitReached": false,
       "aggType": "",
       "arguments": {},
       "columnCustomDisplayInfos": {},
       "data": [
        [
         "2016-01-04T00:00:00Z",
         11.91,
         2.865,
         95.0,
         5.2,
         10009
        ],
        [
         "2016-02-15T00:00:00Z",
         12.24,
         2.894,
         60.0,
         2.0,
         7311
        ],
        [
         "2016-02-22T00:00:00Z",
         12.79,
         2.973,
         60.0,
         0.92,
         11422
        ]
       ],
       "datasetInfos": [],
       "dbfsResultPath": null,
       "isJsonSchema": true,
       "metadata": {
        "createTempViewForImplicitDf": true,
        "dataframeName": "_sqldf",
        "executionCount": 39
       },
       "overflow": false,
       "plotOptions": {
        "customPlotOptions": {},
        "displayType": "table",
        "pivotAggregation": null,
        "pivotColumns": null,
        "xColumns": null,
        "yColumns": null
       },
       "removedWidgets": [],
       "schema": [
        {
         "metadata": "{}",
         "name": "week",
         "type": "\"timestamp\""
        },
        {
         "metadata": "{}",
         "name": "avg_amount",
         "type": "\"double\""
        },
        {
         "metadata": "{}",
         "name": "avg_distance",
         "type": "\"double\""
        },
        {
         "metadata": "{}",
         "name": "fare_amount",
         "type": "\"double\""
        },
        {
         "metadata": "{}",
         "name": "trip_distance",
         "type": "\"double\""
        },
        {
         "metadata": "{}",
         "name": "zip",
         "type": "\"integer\""
        }
       ],
       "type": "table"
      }
     },
     "output_type": "display_data"
    }
   ],
   "source": [
    "%sql\n",
    "SELECT * FROM top_n;"
   ]
  },
  {
   "cell_type": "markdown",
   "metadata": {
    "application/vnd.databricks.v1+cell": {
     "cellMetadata": {
      "byteLimit": 2048000,
      "rowLimit": 10000
     },
     "inputWidgets": {},
     "nuid": "0410512f-c1e6-454f-9630-69e5587e5d3b",
     "showTitle": false,
     "tableResultSettingsMap": {},
     "title": ""
    }
   },
   "source": [
    "\n",
    "\n",
    "## Planifier une tâche pour le notebook\n",
    "Pour s'assurer que les tables Bronze, Silver et Gold sont régulièrement mises à jour avec des données récentes, il est recommandé de planifier l'exécution du notebook en tant que tâche périodique. Cela permettra de maintenir les tables à jour avec les dernières informations. Pour planifier une tâche pour le notebook :\n",
    "\n",
    "- Dans le notebook, cliquez sur le bouton Planifier (Schedule) en haut à droite.\n",
    "- Dans la fenêtre de dialogue Planification (Schedule), vous pouvez, si vous le souhaitez, saisir un nom pour la tâche. Par défaut, le nom est celui du notebook.\n",
    "- Les exécutions planifiées vous permettent de définir une fréquence d'exécution pour la tâche. Ajustez la fréquence, l'heure et le fuseau horaire selon vos besoins.\n",
    "- Laissez tous les autres paramètres tels quels, puis cliquez sur Créer (Create).\n",
    "- Une fois la planification créée avec succès, cliquez sur Exécuter maintenant (Run Now) pour déclencher une exécution de la tâche pour la pipeline NYCTaxiSQL."
   ]
  },
  {
   "cell_type": "markdown",
   "metadata": {
    "application/vnd.databricks.v1+cell": {
     "cellMetadata": {
      "byteLimit": 2048000,
      "rowLimit": 10000
     },
     "inputWidgets": {},
     "nuid": "123f8ca0-5967-46e6-8514-6f453bc8fbcc",
     "showTitle": false,
     "tableResultSettingsMap": {},
     "title": ""
    }
   },
   "source": [
    "# Félicitations !\n",
    "Vous avez maintenant créé, exécuté et analysé une pipeline de traitement des données. \n",
    "\n",
    "### Question unique : Reprendre les transformations en utilisant l'API Spark.\n",
    "\n"
   ]
  },
  {
   "cell_type": "code",
   "execution_count": 0,
   "metadata": {
    "application/vnd.databricks.v1+cell": {
     "cellMetadata": {
      "byteLimit": 2048000,
      "rowLimit": 10000
     },
     "inputWidgets": {},
     "nuid": "d760796d-9a75-426c-9c5d-a83a52f6c2cc",
     "showTitle": false,
     "tableResultSettingsMap": {},
     "title": ""
    }
   },
   "outputs": [
    {
     "output_type": "stream",
     "name": "stdout",
     "output_type": "stream",
     "text": [
      "+--------------------+---------------------+-------------+-----------+----------+-----------+\n|tpep_pickup_datetime|tpep_dropoff_datetime|trip_distance|fare_amount|pickup_zip|dropoff_zip|\n+--------------------+---------------------+-------------+-----------+----------+-----------+\n| 2016-02-14 16:52:13|  2016-02-14 17:16:04|         4.94|       19.0|     10282|      10171|\n| 2016-02-04 18:44:19|  2016-02-04 18:46:00|         0.28|        3.5|     10110|      10110|\n| 2016-02-17 17:13:57|  2016-02-17 17:17:55|          0.7|        5.0|     10103|      10023|\n| 2016-02-18 10:36:07|  2016-02-18 10:41:45|          0.8|        6.0|     10022|      10017|\n| 2016-02-22 14:14:41|  2016-02-22 14:31:52|         4.51|       17.0|     10110|      10282|\n| 2016-02-05 06:45:02|  2016-02-05 06:50:26|          1.8|        7.0|     10009|      10065|\n| 2016-02-15 15:03:28|  2016-02-15 15:18:45|         2.58|       12.0|     10153|      10199|\n| 2016-02-25 19:09:26|  2016-02-25 19:24:50|          1.4|       11.0|     10112|      10069|\n| 2016-02-13 16:28:18|  2016-02-13 16:36:36|         1.21|        7.5|     10023|      10153|\n| 2016-02-14 00:03:48|  2016-02-14 00:10:24|          0.6|        6.0|     10012|      10003|\n| 2016-02-27 15:02:58|  2016-02-27 15:08:31|         2.02|        8.0|     10002|      11211|\n| 2016-02-17 07:52:40|  2016-02-17 08:01:21|          1.5|        8.0|     10019|      10199|\n| 2016-02-14 21:55:55|  2016-02-14 22:01:31|         0.93|        6.0|     10019|      10018|\n| 2016-02-05 22:27:07|  2016-02-05 22:39:44|         2.34|       10.5|     10110|      10014|\n| 2016-02-05 09:51:47|  2016-02-05 09:57:27|         0.91|        5.5|     10119|      10199|\n| 2016-02-21 11:15:39|  2016-02-21 11:40:24|         11.6|       33.5|     10019|      11371|\n| 2016-02-23 13:20:29|  2016-02-23 13:36:25|          1.4|       11.0|     10018|      10022|\n| 2016-02-24 13:07:46|  2016-02-24 13:26:13|         2.43|       13.0|     10065|      10119|\n| 2016-02-22 15:12:53|  2016-02-22 15:22:59|          1.2|        8.0|     10001|      10009|\n| 2016-02-05 09:40:07|  2016-02-05 09:49:09|          1.3|        7.5|     10003|      10013|\n+--------------------+---------------------+-------------+-----------+----------+-----------+\nonly showing top 20 rows\n\n"
     ]
    }
   ],
   "source": [
    "df_trips = spark.sql(\"SELECT * FROM samples.nyctaxi.trips\")\n",
    "df_trips.show()"
   ]
  },
  {
   "cell_type": "code",
   "execution_count": 0,
   "metadata": {
    "application/vnd.databricks.v1+cell": {
     "cellMetadata": {
      "byteLimit": 2048000,
      "rowLimit": 10000
     },
     "inputWidgets": {},
     "nuid": "627aa2a1-e845-4ef9-81a7-b08e21a5a553",
     "showTitle": false,
     "tableResultSettingsMap": {},
     "title": ""
    }
   },
   "outputs": [
    {
     "output_type": "stream",
     "name": "stdout",
     "output_type": "stream",
     "text": [
      "+--------------------+---------------------+-------------+-----------+----------+-----------+\n|tpep_pickup_datetime|tpep_dropoff_datetime|trip_distance|fare_amount|pickup_zip|dropoff_zip|\n+--------------------+---------------------+-------------+-----------+----------+-----------+\n| 2016-02-16 22:40:45|  2016-02-16 22:59:25|         5.35|       18.5|     10003|      11238|\n| 2016-02-05 16:06:44|  2016-02-05 16:26:03|          6.5|       21.5|     10282|      10001|\n| 2016-02-08 07:39:25|  2016-02-08 07:44:14|          0.9|        5.5|     10119|      10003|\n| 2016-02-29 22:25:33|  2016-02-29 22:38:09|          3.5|       13.5|     10001|      11222|\n| 2016-02-03 17:21:02|  2016-02-03 17:23:24|          0.3|        3.5|     10028|      10028|\n| 2016-02-19 03:24:25|  2016-02-19 03:44:56|         6.57|       21.5|     10001|      11377|\n| 2016-02-02 14:05:23|  2016-02-02 14:23:07|         1.08|       11.5|     10103|      10167|\n| 2016-02-20 15:42:20|  2016-02-20 15:50:40|          0.8|        7.0|     10003|      10011|\n| 2016-02-14 16:19:53|  2016-02-14 16:32:10|          1.3|        9.0|     10199|      10020|\n| 2016-02-16 21:01:22|  2016-02-16 21:11:29|         2.74|       11.0|     10002|      11211|\n| 2016-02-22 20:13:11|  2016-02-22 20:27:35|         2.09|       11.5|     10012|      10009|\n| 2016-02-12 11:35:59|  2016-02-12 11:50:53|          2.8|       13.5|     10103|      10016|\n| 2016-02-27 07:50:33|  2016-02-27 07:56:38|          1.0|        6.0|     10022|      10110|\n| 2016-02-28 12:04:09|  2016-02-28 12:07:01|          0.7|        4.5|     10065|      10021|\n| 2016-02-16 16:11:04|  2016-02-16 17:04:11|        11.54|       40.0|     10110|      11371|\n| 2016-02-11 12:44:24|  2016-02-11 13:07:43|          3.8|       18.0|     10021|      10027|\n| 2016-02-28 18:25:18|  2016-02-28 18:31:08|         0.98|        6.0|     10119|      10009|\n| 2016-02-13 20:00:15|  2016-02-13 20:17:20|         2.83|       13.5|     10003|      10282|\n| 2016-02-21 01:07:04|  2016-02-21 01:09:43|          0.6|        4.0|     10018|      10018|\n| 2016-02-27 15:56:56|  2016-02-27 16:04:51|         1.53|        8.0|     10023|      10025|\n+--------------------+---------------------+-------------+-----------+----------+-----------+\nonly showing top 20 rows\n\n"
     ]
    }
   ],
   "source": [
    "df_taxi_raw_records = df_trips.filter(df_trips.trip_distance > 0.0)\n",
    "df_taxi_raw_records.show()"
   ]
  },
  {
   "cell_type": "code",
   "execution_count": 0,
   "metadata": {
    "application/vnd.databricks.v1+cell": {
     "cellMetadata": {
      "byteLimit": 2048000,
      "rowLimit": 10000
     },
     "inputWidgets": {},
     "nuid": "50308205-328e-401e-b380-52a8212e5ed1",
     "showTitle": false,
     "tableResultSettingsMap": {},
     "title": ""
    }
   },
   "outputs": [
    {
     "output_type": "stream",
     "name": "stdout",
     "output_type": "stream",
     "text": [
      "+-------------------+-----+-----------+-------------+\n|               week|  zip|fare_amount|trip_distance|\n+-------------------+-----+-----------+-------------+\n|2016-02-08 00:00:00|11422|       52.0|          0.2|\n|2016-01-11 00:00:00|11422|       52.0|          8.7|\n|2015-12-28 00:00:00|10023|       52.0|          0.3|\n|2016-01-18 00:00:00|10020|       52.0|          0.1|\n|2016-02-22 00:00:00|10017|       52.0|         0.12|\n|2016-02-29 00:00:00|11101|       52.0|         2.88|\n|2016-02-22 00:00:00|11109|       52.0|         3.34|\n|2016-01-11 00:00:00|11106|       52.0|         2.94|\n|2016-01-11 00:00:00|10003|       52.0|         0.03|\n|2015-12-28 00:00:00|10020|       52.0|         15.3|\n|2016-01-04 00:00:00|10035|       52.0|          4.7|\n|2016-01-25 00:00:00|11109|       52.0|          3.0|\n|2016-02-22 00:00:00|10115|       55.0|         0.18|\n|2016-02-22 00:00:00|11371|       52.0|         4.02|\n|2016-02-22 00:00:00|11422|       60.0|         0.92|\n|2016-01-11 00:00:00|11109|       52.0|         2.39|\n|2016-01-04 00:00:00|10009|       95.0|          5.2|\n|2016-02-15 00:00:00| 7311|       60.0|          2.0|\n|2016-01-25 00:00:00|10065|       52.0|         1.12|\n+-------------------+-----+-----------+-------------+\n\n"
     ]
    }
   ],
   "source": [
    "df_flagged_rides = (\n",
    "    df_taxi_raw_records\n",
    "    .select(\n",
    "        date_trunc(\"week\", col(\"tpep_pickup_datetime\")).alias(\"week\"), \n",
    "        col(\"pickup_zip\").alias(\"zip\"),\n",
    "        col(\"fare_amount\"),\n",
    "        col(\"trip_distance\")\n",
    "    )\n",
    "    .filter(\n",
    "        (\n",
    "            (col(\"pickup_zip\") == col(\"dropoff_zip\")) & (col(\"fare_amount\") > 50)\n",
    "        ) | (\n",
    "            (col(\"trip_distance\") < 5) & (col(\"fare_amount\") > 50)\n",
    "        )\n",
    "    )\n",
    ")\n",
    "df_flagged_rides.show()"
   ]
  },
  {
   "cell_type": "code",
   "execution_count": 0,
   "metadata": {
    "application/vnd.databricks.v1+cell": {
     "cellMetadata": {
      "byteLimit": 2048000,
      "rowLimit": 10000
     },
     "inputWidgets": {},
     "nuid": "f437d330-11d6-4de7-8b87-06b37b3332b1",
     "showTitle": false,
     "tableResultSettingsMap": {},
     "title": ""
    }
   },
   "outputs": [
    {
     "output_type": "stream",
     "name": "stdout",
     "output_type": "stream",
     "text": [
      "+-------------------+------------------+------------------+\n|               week|        avg_amount|      avg_distance|\n+-------------------+------------------+------------------+\n|2015-12-28 00:00:00|12.178038379530918|   3.1040618336887|\n|2016-01-04 00:00:00|11.907765076862436|2.8646038628301174|\n|2016-01-11 00:00:00|12.332039911308204|2.9312638580931263|\n|2016-01-18 00:00:00|11.966793403573066| 2.742175904718279|\n|2016-01-25 00:00:00|12.981361426256077|2.8746961102106967|\n|2016-02-01 00:00:00|11.990339116719243| 2.746336750788645|\n|2016-02-08 00:00:00| 12.20651356238698|2.7510813743218807|\n|2016-02-15 00:00:00|12.244146522870956| 2.894492376348084|\n|2016-02-22 00:00:00| 12.79211403184006|2.9734727878563505|\n|2016-02-29 00:00:00| 12.60960960960961|2.9733633633633625|\n+-------------------+------------------+------------------+\n\n"
     ]
    }
   ],
   "source": [
    "df_weekly_stats = (\n",
    "    df_taxi_raw_records\n",
    "    .groupBy(date_trunc(\"week\", col(\"tpep_pickup_datetime\")).alias(\"week\"))\n",
    "    .agg(\n",
    "        avg(\"fare_amount\").alias(\"avg_amount\"),\n",
    "        avg(\"trip_distance\").alias(\"avg_distance\")\n",
    "    )\n",
    "    .orderBy(\"week\", ascending=True)\n",
    ")\n",
    "df_weekly_stats.show()"
   ]
  },
  {
   "cell_type": "code",
   "execution_count": 0,
   "metadata": {
    "application/vnd.databricks.v1+cell": {
     "cellMetadata": {
      "byteLimit": 2048000,
      "rowLimit": 10000
     },
     "inputWidgets": {},
     "nuid": "b4431af7-ede0-415e-a72a-f7f70e5cc0f8",
     "showTitle": false,
     "tableResultSettingsMap": {},
     "title": ""
    }
   },
   "outputs": [
    {
     "output_type": "stream",
     "name": "stdout",
     "output_type": "stream",
     "text": [
      "+-------------------+----------+------------+-----------+-------------+-----+\n|               week|avg_amount|avg_distance|fare_amount|trip_distance|  zip|\n+-------------------+----------+------------+-----------+-------------+-----+\n|2016-01-04 00:00:00|     11.91|       2.865|       95.0|          5.2|10009|\n|2016-02-22 00:00:00|     12.79|       2.973|       60.0|         0.92|11422|\n|2016-02-15 00:00:00|     12.24|       2.894|       60.0|          2.0| 7311|\n+-------------------+----------+------------+-----------+-------------+-----+\n\n"
     ]
    }
   ],
   "source": [
    "df_top_n = (\n",
    "    df_flagged_rides\n",
    "    .join(df_weekly_stats, df_flagged_rides.week == df_weekly_stats.week, \"left\")\n",
    "    .select(\n",
    "        df_weekly_stats[\"week\"],\n",
    "        round(df_weekly_stats[\"avg_amount\"], 2).alias(\"avg_amount\"),\n",
    "        round(df_weekly_stats[\"avg_distance\"], 3).alias(\"avg_distance\"),\n",
    "        df_flagged_rides[\"fare_amount\"],\n",
    "        df_flagged_rides[\"trip_distance\"],\n",
    "        df_flagged_rides[\"zip\"]\n",
    "    )\n",
    "    .orderBy(col(\"fare_amount\").desc())\n",
    "    .limit(3)\n",
    ")\n",
    "df_top_n.show()"
   ]
  }
 ],
 "metadata": {
  "application/vnd.databricks.v1+notebook": {
   "computePreferences": null,
   "dashboards": [],
   "environmentMetadata": {
    "base_environment": "",
    "client": "1"
   },
   "language": "python",
   "notebookMetadata": {
    "mostRecentlyExecutedCommandWithImplicitDF": {
     "commandId": 3355202417637792,
     "dataframes": [
      "_sqldf"
     ]
    },
    "pythonIndentUnit": 2
   },
   "notebookName": "Lab3- Pipeline SQL",
   "widgets": {}
  },
  "language_info": {
   "name": "python"
  }
 },
 "nbformat": 4,
 "nbformat_minor": 0
}