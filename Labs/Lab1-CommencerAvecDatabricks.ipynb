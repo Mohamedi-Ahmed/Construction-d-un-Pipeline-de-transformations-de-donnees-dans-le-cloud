{
 "cells": [
  {
   "cell_type": "markdown",
   "metadata": {
    "application/vnd.databricks.v1+cell": {
     "cellMetadata": {
      "byteLimit": 2048000,
      "rowLimit": 10000
     },
     "inputWidgets": {},
     "nuid": "e21a0ffa-49ae-4b13-83f2-da709a340485",
     "showTitle": false,
     "tableResultSettingsMap": {},
     "title": ""
    }
   },
   "source": [
    "# Lab1 : Commencer avec Databricks"
   ]
  },
  {
   "cell_type": "markdown",
   "metadata": {
    "application/vnd.databricks.v1+cell": {
     "cellMetadata": {
      "byteLimit": 2048000,
      "rowLimit": 10000
     },
     "inputWidgets": {},
     "nuid": "80fa99d9-1a2a-4dc2-b2d7-57b91670ce71",
     "showTitle": false,
     "tableResultSettingsMap": {},
     "title": ""
    }
   },
   "source": [
    "\n",
    "### Utiliser Spark pour analyser les données\n",
    "\n",
    "\n",
    "Creer une table à partir de ce fichier :   https://raw.githubusercontent.com/MicrosoftLearning/mslearn-databricks/main/data/products.csv \n",
    "\n",
    "\n",
    "\n",
    "Executer la requête suivante et visualiser"
   ]
  },
  {
   "cell_type": "code",
   "execution_count": 0,
   "metadata": {
    "application/vnd.databricks.v1+cell": {
     "cellMetadata": {
      "byteLimit": 2048000,
      "implicitDf": true,
      "rowLimit": 10000
     },
     "inputWidgets": {},
     "nuid": "5d7dbaa5-905e-486e-845b-c61ecd8f094b",
     "showTitle": false,
     "tableResultSettingsMap": {},
     "title": ""
    }
   },
   "outputs": [],
   "source": [
    " %sql\n",
    " SELECT * FROM products;"
   ]
  },
  {
   "cell_type": "markdown",
   "metadata": {
    "application/vnd.databricks.v1+cell": {
     "cellMetadata": {
      "byteLimit": 2048000,
      "rowLimit": 10000
     },
     "inputWidgets": {},
     "nuid": "a510db4e-6983-4ff9-b60f-926ad35570a1",
     "showTitle": false,
     "tableResultSettingsMap": {},
     "title": ""
    }
   },
   "source": [
    "Au-dessus du tableau des résultats, sélectionnez +, puis choisissez Visualization pour ouvrir l'éditeur de visualisation, et appliquez les options suivantes :\n",
    "\n",
    "- Type de visualisation : Barres\n",
    "- Colonne X : Category\n",
    "- Colonne Y : Ajoutez une nouvelle colonne et sélectionnez ProductID. \n",
    "Appliquez l'agrégation Count.\n",
    "\n",
    "\n",
    "Enregistrez la visualisation et observez le résultat."
   ]
  },
  {
   "cell_type": "markdown",
   "metadata": {
    "application/vnd.databricks.v1+cell": {
     "cellMetadata": {
      "byteLimit": 2048000,
      "rowLimit": 10000
     },
     "inputWidgets": {},
     "nuid": "a722d792-461d-447b-9fa8-5e7c0c8c28fe",
     "showTitle": false,
     "tableResultSettingsMap": {},
     "title": ""
    }
   },
   "source": [
    "### Analyser les données avec un DataFrame\n",
    "\n",
    "Questions : \n",
    "\n",
    "1. Charger les données de la table product avec une requête SQL.\n",
    "2. Appliquer un filtre sur le DataFrame, et ne conserver que les lignes où la colonne Category a la valeur 'Road Bikes'.\n",
    "3. Afficher le contenu du DataFrame filtré."
   ]
  },
  {
   "cell_type": "markdown",
   "metadata": {
    "application/vnd.databricks.v1+cell": {
     "cellMetadata": {
      "byteLimit": 2048000,
      "rowLimit": 10000
     },
     "inputWidgets": {},
     "nuid": "9389b125-9ebe-4629-90b9-0926d0972137",
     "showTitle": false,
     "tableResultSettingsMap": {},
     "title": ""
    }
   },
   "source": [
    "1) Charger les données de la table products avec une requête **SQL**"
   ]
  },
  {
   "cell_type": "code",
   "execution_count": 0,
   "metadata": {
    "application/vnd.databricks.v1+cell": {
     "cellMetadata": {
      "byteLimit": 2048000,
      "implicitDf": true,
      "rowLimit": 10000
     },
     "inputWidgets": {},
     "nuid": "3e328f7f-9636-4fca-8e99-fa67b1a08a00",
     "showTitle": false,
     "tableResultSettingsMap": {},
     "title": ""
    }
   },
   "outputs": [],
   "source": [
    "%sql\n",
    "SELECT * FROM products;"
   ]
  },
  {
   "cell_type": "code",
   "execution_count": 0,
   "metadata": {
    "application/vnd.databricks.v1+cell": {
     "cellMetadata": {
      "byteLimit": 2048000,
      "rowLimit": 10000
     },
     "inputWidgets": {},
     "nuid": "df01422c-5e84-4449-8e35-b195c0ad822a",
     "showTitle": false,
     "tableResultSettingsMap": {},
     "title": ""
    }
   },
   "outputs": [],
   "source": [
    "%python\n",
    "df = spark.sql(\"SELECT * FROM products\")"
   ]
  },
  {
   "cell_type": "markdown",
   "metadata": {
    "application/vnd.databricks.v1+cell": {
     "cellMetadata": {
      "byteLimit": 2048000,
      "rowLimit": 10000
     },
     "inputWidgets": {},
     "nuid": "cb4935fd-da5d-47aa-ad1b-079a80d8199e",
     "showTitle": false,
     "tableResultSettingsMap": {},
     "title": ""
    }
   },
   "source": [
    "2. Appliquer un filtre sur le DataFrame, et ne conserver que les lignes où la colonne Category a la valeur 'Road Bikes'.\n"
   ]
  },
  {
   "cell_type": "code",
   "execution_count": 0,
   "metadata": {
    "application/vnd.databricks.v1+cell": {
     "cellMetadata": {
      "byteLimit": 2048000,
      "rowLimit": 10000
     },
     "inputWidgets": {},
     "nuid": "d5545f3f-52b5-46bd-b83d-6e53ee0ddcbd",
     "showTitle": false,
     "tableResultSettingsMap": {},
     "title": ""
    }
   },
   "outputs": [],
   "source": [
    "%python\n",
    "df_filtered = df.filter(df.Category == 'Road Bikes')"
   ]
  },
  {
   "cell_type": "markdown",
   "metadata": {
    "application/vnd.databricks.v1+cell": {
     "cellMetadata": {
      "byteLimit": 2048000,
      "rowLimit": 10000
     },
     "inputWidgets": {},
     "nuid": "f1c94003-02be-486d-8d1b-5cb635dfd9cc",
     "showTitle": false,
     "tableResultSettingsMap": {},
     "title": ""
    }
   },
   "source": [
    "3) Afficher le contenu du DataFrame filtré."
   ]
  },
  {
   "cell_type": "code",
   "execution_count": 0,
   "metadata": {
    "application/vnd.databricks.v1+cell": {
     "cellMetadata": {
      "byteLimit": 2048000,
      "rowLimit": 10000
     },
     "inputWidgets": {},
     "nuid": "04ef2c2b-62c7-4754-8e0d-3bcfc1e91586",
     "showTitle": false,
     "tableResultSettingsMap": {},
     "title": ""
    }
   },
   "outputs": [
    {
     "output_type": "stream",
     "name": "stdout",
     "output_type": "stream",
     "text": [
      "+---------+--------------------+----------+---------+\n|ProductID|         ProductName|  Category|ListPrice|\n+---------+--------------------+----------+---------+\n|      973|Road-350-W Yellow...|Road Bikes|  1700.99|\n|      974|Road-350-W Yellow...|Road Bikes|  1700.99|\n|      975|Road-350-W Yellow...|Road Bikes|  1700.99|\n|      976|Road-350-W Yellow...|Road Bikes|  1700.99|\n|      977|  Road-750 Black, 58|Road Bikes|   539.99|\n|      997|  Road-750 Black, 44|Road Bikes|   539.99|\n|      998|  Road-750 Black, 48|Road Bikes|   539.99|\n|      999|  Road-750 Black, 52|Road Bikes|   539.99|\n|      789|    Road-250 Red, 44|Road Bikes|  2443.35|\n|      790|    Road-250 Red, 48|Road Bikes|  2443.35|\n|      791|    Road-250 Red, 52|Road Bikes|  2443.35|\n|      792|    Road-250 Red, 58|Road Bikes|  2443.35|\n|      793|  Road-250 Black, 44|Road Bikes|  2443.35|\n|      794|  Road-250 Black, 48|Road Bikes|  2443.35|\n|      795|  Road-250 Black, 52|Road Bikes|  2443.35|\n|      796|  Road-250 Black, 58|Road Bikes|  2443.35|\n|      797|Road-550-W Yellow...|Road Bikes|  1120.49|\n|      798|Road-550-W Yellow...|Road Bikes|  1120.49|\n|      799|Road-550-W Yellow...|Road Bikes|  1120.49|\n|      800|Road-550-W Yellow...|Road Bikes|  1120.49|\n+---------+--------------------+----------+---------+\nonly showing top 20 rows\n\n"
     ]
    }
   ],
   "source": [
    "%python\n",
    "df_filtered.show()"
   ]
  }
 ],
 "metadata": {
  "application/vnd.databricks.v1+notebook": {
   "computePreferences": null,
   "dashboards": [],
   "environmentMetadata": {
    "base_environment": "",
    "client": "1"
   },
   "language": "python",
   "notebookMetadata": {
    "mostRecentlyExecutedCommandWithImplicitDF": {
     "commandId": 2898177202200393,
     "dataframes": [
      "_sqldf"
     ]
    },
    "pythonIndentUnit": 2
   },
   "notebookName": "Lab1-CommencerAvecDatabricks",
   "widgets": {}
  },
  "language_info": {
   "name": "python"
  }
 },
 "nbformat": 4,
 "nbformat_minor": 0
}